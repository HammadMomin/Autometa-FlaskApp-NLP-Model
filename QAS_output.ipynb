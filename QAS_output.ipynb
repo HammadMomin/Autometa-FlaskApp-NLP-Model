{
 "cells": [
  {
   "cell_type": "code",
   "execution_count": 1,
   "id": "7be7a918",
   "metadata": {
    "execution": {
     "iopub.execute_input": "2023-04-16T09:58:59.536052Z",
     "iopub.status.busy": "2023-04-16T09:58:59.535052Z",
     "iopub.status.idle": "2023-04-16T09:58:59.542352Z",
     "shell.execute_reply": "2023-04-16T09:58:59.542352Z"
    },
    "papermill": {
     "duration": 0.011305,
     "end_time": "2023-04-16T09:58:59.543354",
     "exception": false,
     "start_time": "2023-04-16T09:58:59.532049",
     "status": "completed"
    },
    "tags": [
     "parameters"
    ]
   },
   "outputs": [],
   "source": [
    "ans_file=\"\"\n",
    "text=\"\"\n",
    "question=\"\""
   ]
  },
  {
   "cell_type": "code",
   "execution_count": 2,
   "id": "eaf3d61e",
   "metadata": {
    "execution": {
     "iopub.execute_input": "2023-04-16T09:58:59.550361Z",
     "iopub.status.busy": "2023-04-16T09:58:59.550361Z",
     "iopub.status.idle": "2023-04-16T09:58:59.554619Z",
     "shell.execute_reply": "2023-04-16T09:58:59.554619Z"
    },
    "papermill": {
     "duration": 0.009265,
     "end_time": "2023-04-16T09:58:59.555622",
     "exception": false,
     "start_time": "2023-04-16T09:58:59.546357",
     "status": "completed"
    },
    "tags": [
     "injected-parameters"
    ]
   },
   "outputs": [],
   "source": [
    "# Parameters\n",
    "text = \"Stoicism is a school of Hellenistic philosophy founded by Zeno of Citium in Athens in the early 3rd century BCE. It is a philosophy of personal virtue ethics informed by its system of logic and its views on the natural world, asserting that the practice of virtue is both necessary and sufficient to achieve eudaimonia (happiness, lit.\\u2009'good spiritedness'): one flourishes by living an ethical life. The Stoics identified the path to eudaimonia with a life spent practicing virtue and living in accordance with nature.Alongside Aristotelian ethics, the Stoic tradition forms one of the major founding approaches to virtue ethics.[1] The Stoics are especially known for teaching that virtue is the only good for human beings, and that external things, such as health, wealth, and pleasure, are not good or bad in themselves (adiaphora) but have value as material for virtue to act upon. Many Stoics\\u2014such as Seneca and Epictetus\\u2014emphasized that because virtue is sufficient for happiness, a sage would be emotionally resilient to misfortune. The Stoics also held that certain destructive emotions resulted from errors of judgment, and they believed people should aim to maintain a will (called prohairesis) that is in accordance with nature. Because of this, the Stoics thought the best indication of an individual's philosophy was not what a person said but how a person behaved.[2] To live a good life, one had to understand the rules of the natural order since they believed everything was rooted in nature.\"\n",
    "question = \"When was Stoicism started? \"\n",
    "ans_file = \"QAS_ans.txt\"\n"
   ]
  },
  {
   "cell_type": "code",
   "execution_count": 3,
   "id": "57103516",
   "metadata": {
    "execution": {
     "iopub.execute_input": "2023-04-16T09:58:59.561628Z",
     "iopub.status.busy": "2023-04-16T09:58:59.561628Z",
     "iopub.status.idle": "2023-04-16T09:59:04.162994Z",
     "shell.execute_reply": "2023-04-16T09:59:04.162994Z"
    },
    "papermill": {
     "duration": 4.606373,
     "end_time": "2023-04-16T09:59:04.164997",
     "exception": false,
     "start_time": "2023-04-16T09:58:59.558624",
     "status": "completed"
    },
    "tags": []
   },
   "outputs": [],
   "source": [
    "#Importing Libraries\n",
    "import pandas as pd\n",
    "import numpy as np\n",
    "import matplotlib.pyplot as plt\n",
    "import seaborn as sns\n",
    "import torch\n",
    "import re\n",
    "import time\n",
    "import papermill as pm\n",
    "import warnings\n",
    "warnings.filterwarnings(\"ignore\")"
   ]
  },
  {
   "cell_type": "code",
   "execution_count": 4,
   "id": "33d3d4be",
   "metadata": {
    "execution": {
     "iopub.execute_input": "2023-04-16T09:59:04.172005Z",
     "iopub.status.busy": "2023-04-16T09:59:04.172005Z",
     "iopub.status.idle": "2023-04-16T09:59:07.791976Z",
     "shell.execute_reply": "2023-04-16T09:59:07.791976Z"
    },
    "papermill": {
     "duration": 3.626981,
     "end_time": "2023-04-16T09:59:07.793980",
     "exception": false,
     "start_time": "2023-04-16T09:59:04.166999",
     "status": "completed"
    },
    "tags": []
   },
   "outputs": [],
   "source": [
    "#Loading Model and Encoder\n",
    "model=torch.load(\"MODEL_APR_23\")\n",
    "model.eval()\n",
    "tokenizer = torch.load(\"tokenizer_encoder.unknown\")"
   ]
  },
  {
   "cell_type": "code",
   "execution_count": 5,
   "id": "a4c02754",
   "metadata": {
    "execution": {
     "iopub.execute_input": "2023-04-16T09:59:07.800987Z",
     "iopub.status.busy": "2023-04-16T09:59:07.799985Z",
     "iopub.status.idle": "2023-04-16T09:59:07.808108Z",
     "shell.execute_reply": "2023-04-16T09:59:07.808108Z"
    },
    "papermill": {
     "duration": 0.01413,
     "end_time": "2023-04-16T09:59:07.810111",
     "exception": false,
     "start_time": "2023-04-16T09:59:07.795981",
     "status": "completed"
    },
    "tags": []
   },
   "outputs": [],
   "source": [
    "def question_answer_A(question, text):\n",
    "    \n",
    "    #tokenize question and text in ids as a pair\n",
    "    input_ids = tokenizer.encode(question, text)\n",
    "    \n",
    "    #string version of tokenized ids\n",
    "    tokens = tokenizer.convert_ids_to_tokens(input_ids)\n",
    "    \n",
    "    #segment IDs\n",
    "    #first occurence of [SEP] token\n",
    "    sep_idx = input_ids.index(tokenizer.sep_token_id)\n",
    "\n",
    "    #number of tokens in segment A - question\n",
    "    num_seg_a = sep_idx+1\n",
    "\n",
    "    #number of tokens in segment B - text\n",
    "    num_seg_b = len(input_ids) - num_seg_a\n",
    "    \n",
    "    #list of 0s and 1s\n",
    "    segment_ids = [0]*num_seg_a + [1]*num_seg_b\n",
    "    \n",
    "    assert len(segment_ids) == len(input_ids)\n",
    "    \n",
    "    #model output using input_ids and segment_ids\n",
    "    output = model(torch.tensor([input_ids]), token_type_ids=torch.tensor([segment_ids]))\n",
    "    #reconstructing the answer\n",
    "    answer_start = torch.argmax(output.start_logits)\n",
    "    answer_end = torch.argmax(output.end_logits)\n",
    "    answer = 'unable to find answer'\n",
    "    if answer_end >= answer_start:\n",
    "        answer = tokens[answer_start]\n",
    "        for i in range(answer_start+1, answer_end+1):\n",
    "            if tokens[i][0:2] == \"##\":\n",
    "                answer += tokens[i][2:]\n",
    "            else:\n",
    "                answer += \" \" + tokens[i]\n",
    "                \n",
    "    if answer.startswith(\"[CLS]\"):\n",
    "        answer = \"Unable to find the answer to your question.\"\n",
    "    \n",
    "    return torch.max(output.start_logits), answer.capitalize() #score ans"
   ]
  },
  {
   "cell_type": "code",
   "execution_count": 6,
   "id": "6b2af179",
   "metadata": {
    "execution": {
     "iopub.execute_input": "2023-04-16T09:59:07.816118Z",
     "iopub.status.busy": "2023-04-16T09:59:07.816118Z",
     "iopub.status.idle": "2023-04-16T09:59:07.822062Z",
     "shell.execute_reply": "2023-04-16T09:59:07.822062Z"
    },
    "papermill": {
     "duration": 0.011953,
     "end_time": "2023-04-16T09:59:07.824067",
     "exception": false,
     "start_time": "2023-04-16T09:59:07.812114",
     "status": "completed"
    },
    "tags": []
   },
   "outputs": [],
   "source": [
    "def chunk_text(text, max_len):\n",
    "    # split the text into sentences\n",
    "    sentences = re.findall('[^.!?]+[.!?]', text)\n",
    "    \n",
    "    # initialize variables\n",
    "    current_len = 0\n",
    "    current_chunk = []\n",
    "    chunks = []\n",
    "    \n",
    "    # iterate over each sentence\n",
    "    for sentence in sentences:\n",
    "        # add the sentence to the current chunk\n",
    "        current_chunk.append(sentence)\n",
    "        \n",
    "        # update the length of the current chunk\n",
    "        current_len += len(sentence)\n",
    "        \n",
    "        # if the length of the current chunk is greater than or equal to the max length\n",
    "        if current_len >= max_len:\n",
    "            # add the current chunk to the list of chunks\n",
    "            chunks.append(' '.join(current_chunk))\n",
    "            \n",
    "            # reset the current chunk and length\n",
    "            current_chunk = []\n",
    "            current_len = 0\n",
    "    \n",
    "    # add any remaining sentences as a final chunk\n",
    "    if current_chunk:\n",
    "        chunks.append(' '.join(current_chunk))\n",
    "    \n",
    "    return chunks"
   ]
  },
  {
   "cell_type": "code",
   "execution_count": 7,
   "id": "ff2cbd67",
   "metadata": {
    "execution": {
     "iopub.execute_input": "2023-04-16T09:59:07.831074Z",
     "iopub.status.busy": "2023-04-16T09:59:07.830073Z",
     "iopub.status.idle": "2023-04-16T09:59:07.835502Z",
     "shell.execute_reply": "2023-04-16T09:59:07.834499Z"
    },
    "papermill": {
     "duration": 0.011436,
     "end_time": "2023-04-16T09:59:07.837504",
     "exception": false,
     "start_time": "2023-04-16T09:59:07.826068",
     "status": "completed"
    },
    "tags": []
   },
   "outputs": [],
   "source": [
    "def get_better_ans(question, text):\n",
    "  chunk_of_text=chunk_text(text,450)\n",
    "  scores = {}\n",
    "  for i in chunk_of_text:\n",
    "    scores.update({question_answer_A(question, i)[0] : question_answer_A(question, i)[1] })\n",
    "  v = list(scores.values())\n",
    "  k = list(scores.keys())\n",
    "  return (v[k.index(max(k))])"
   ]
  },
  {
   "cell_type": "code",
   "execution_count": 8,
   "id": "e5836bdf",
   "metadata": {
    "execution": {
     "iopub.execute_input": "2023-04-16T09:59:07.843510Z",
     "iopub.status.busy": "2023-04-16T09:59:07.843510Z",
     "iopub.status.idle": "2023-04-16T09:59:16.397542Z",
     "shell.execute_reply": "2023-04-16T09:59:16.397542Z"
    },
    "papermill": {
     "duration": 8.560039,
     "end_time": "2023-04-16T09:59:16.399545",
     "exception": false,
     "start_time": "2023-04-16T09:59:07.839506",
     "status": "completed"
    },
    "tags": []
   },
   "outputs": [
    {
     "name": "stdout",
     "output_type": "stream",
     "text": [
      "Stoicism is a school of Hellenistic philosophy founded by Zeno of Citium in Athens in the early 3rd century BCE. It is a philosophy of personal virtue ethics informed by its system of logic and its views on the natural world, asserting that the practice of virtue is both necessary and sufficient to achieve eudaimonia (happiness, lit. 'good spiritedness'): one flourishes by living an ethical life. The Stoics identified the path to eudaimonia with a life spent practicing virtue and living in accordance with nature.Alongside Aristotelian ethics, the Stoic tradition forms one of the major founding approaches to virtue ethics.[1] The Stoics are especially known for teaching that virtue is the only good for human beings, and that external things, such as health, wealth, and pleasure, are not good or bad in themselves (adiaphora) but have value as material for virtue to act upon. Many Stoics—such as Seneca and Epictetus—emphasized that because virtue is sufficient for happiness, a sage would be emotionally resilient to misfortune. The Stoics also held that certain destructive emotions resulted from errors of judgment, and they believed people should aim to maintain a will (called prohairesis) that is in accordance with nature. Because of this, the Stoics thought the best indication of an individual's philosophy was not what a person said but how a person behaved.[2] To live a good life, one had to understand the rules of the natural order since they believed everything was rooted in nature.\n",
      "When was Stoicism started? \n"
     ]
    }
   ],
   "source": [
    "print(text)\n",
    "print(question)\n",
    "x = get_better_ans(question, text)\n"
   ]
  },
  {
   "cell_type": "code",
   "execution_count": 9,
   "id": "38069785",
   "metadata": {
    "execution": {
     "iopub.execute_input": "2023-04-16T09:59:16.410557Z",
     "iopub.status.busy": "2023-04-16T09:59:16.409554Z",
     "iopub.status.idle": "2023-04-16T09:59:16.419365Z",
     "shell.execute_reply": "2023-04-16T09:59:16.417361Z"
    },
    "papermill": {
     "duration": 0.017818,
     "end_time": "2023-04-16T09:59:16.421367",
     "exception": false,
     "start_time": "2023-04-16T09:59:16.403549",
     "status": "completed"
    },
    "tags": []
   },
   "outputs": [
    {
     "name": "stdout",
     "output_type": "stream",
     "text": [
      "Early 3rd century bce\n"
     ]
    }
   ],
   "source": [
    "print(x)\n",
    "f = open(ans_file, \"w\")\n",
    "f.write(x)\n",
    "f.close()"
   ]
  },
  {
   "cell_type": "code",
   "execution_count": null,
   "id": "795da226",
   "metadata": {
    "papermill": {
     "duration": 0.004003,
     "end_time": "2023-04-16T09:59:16.429374",
     "exception": false,
     "start_time": "2023-04-16T09:59:16.425371",
     "status": "completed"
    },
    "tags": []
   },
   "outputs": [],
   "source": []
  }
 ],
 "metadata": {
  "celltoolbar": "Tags",
  "kernelspec": {
   "display_name": "Python 3 (ipykernel)",
   "language": "python",
   "name": "python3"
  },
  "language_info": {
   "codemirror_mode": {
    "name": "ipython",
    "version": 3
   },
   "file_extension": ".py",
   "mimetype": "text/x-python",
   "name": "python",
   "nbconvert_exporter": "python",
   "pygments_lexer": "ipython3",
   "version": "3.11.0"
  },
  "papermill": {
   "default_parameters": {},
   "duration": 20.632467,
   "end_time": "2023-04-16T09:59:17.862132",
   "environment_variables": {},
   "exception": null,
   "input_path": "QAS.ipynb",
   "output_path": "QAS_output.ipynb",
   "parameters": {
    "ans_file": "QAS_ans.txt",
    "question": "When was Stoicism started? ",
    "text": "Stoicism is a school of Hellenistic philosophy founded by Zeno of Citium in Athens in the early 3rd century BCE. It is a philosophy of personal virtue ethics informed by its system of logic and its views on the natural world, asserting that the practice of virtue is both necessary and sufficient to achieve eudaimonia (happiness, lit. 'good spiritedness'): one flourishes by living an ethical life. The Stoics identified the path to eudaimonia with a life spent practicing virtue and living in accordance with nature.Alongside Aristotelian ethics, the Stoic tradition forms one of the major founding approaches to virtue ethics.[1] The Stoics are especially known for teaching that virtue is the only good for human beings, and that external things, such as health, wealth, and pleasure, are not good or bad in themselves (adiaphora) but have value as material for virtue to act upon. Many Stoics—such as Seneca and Epictetus—emphasized that because virtue is sufficient for happiness, a sage would be emotionally resilient to misfortune. The Stoics also held that certain destructive emotions resulted from errors of judgment, and they believed people should aim to maintain a will (called prohairesis) that is in accordance with nature. Because of this, the Stoics thought the best indication of an individual's philosophy was not what a person said but how a person behaved.[2] To live a good life, one had to understand the rules of the natural order since they believed everything was rooted in nature."
   },
   "start_time": "2023-04-16T09:58:57.229665",
   "version": "2.4.0"
  }
 },
 "nbformat": 4,
 "nbformat_minor": 5
}