{
 "cells": [
  {
   "cell_type": "code",
   "execution_count": 1,
   "id": "7be7a918",
   "metadata": {
    "execution": {
     "iopub.execute_input": "2023-04-21T11:22:20.448108Z",
     "iopub.status.busy": "2023-04-21T11:22:20.448108Z",
     "iopub.status.idle": "2023-04-21T11:22:20.454818Z",
     "shell.execute_reply": "2023-04-21T11:22:20.454818Z"
    },
    "papermill": {
     "duration": 0.012718,
     "end_time": "2023-04-21T11:22:20.455820",
     "exception": false,
     "start_time": "2023-04-21T11:22:20.443102",
     "status": "completed"
    },
    "tags": [
     "parameters"
    ]
   },
   "outputs": [],
   "source": [
    "ans_file=\"\"\n",
    "text=\"\"\n",
    "question=\"\""
   ]
  },
  {
   "cell_type": "code",
   "execution_count": 2,
   "id": "32ec5838",
   "metadata": {
    "execution": {
     "iopub.execute_input": "2023-04-21T11:22:20.462827Z",
     "iopub.status.busy": "2023-04-21T11:22:20.462827Z",
     "iopub.status.idle": "2023-04-21T11:22:20.466496Z",
     "shell.execute_reply": "2023-04-21T11:22:20.466496Z"
    },
    "papermill": {
     "duration": 0.008675,
     "end_time": "2023-04-21T11:22:20.467498",
     "exception": false,
     "start_time": "2023-04-21T11:22:20.458823",
     "status": "completed"
    },
    "tags": [
     "injected-parameters"
    ]
   },
   "outputs": [],
   "source": [
    "# Parameters\n",
    "text = \"Lorem Ipsum is simply dummy text of the printing and typesetting industry. Lorem Ipsum has\\r\\nbeen the industry's standard dummy text ever since the 1500s, when an unknown printer took\\r\\na galley of type and scrambled it to make a type specimen book. It has survived not only five\\r\\ncenturies, but also the leap into electronic typesetting, remaining essentially unchanged. It was\\r\\npopularised in the 1960s with the release of Letraset sheets containing Lorem Ipsum passages,\\r\\nand more recently with desktop publishing software like Aldus PageMaker including versions of\\r\\nLorem Ipsum. Contrary to popular belief, Lorem Ipsum is not simply random text. It has roots in\\r\\na piece of classical Latin literature from 45 BC, making it over 2000 years old. Richard\\r\\nMcClintock, a Latin professor at Hampden-Sydney College in Virginia, looked up one of the\\r\\nmore obscure Latin words, consectetur, from a Lorem Ipsum passage, and going through the\\r\\ncites of the word in classical literature, discovered the undoubtable source. Lorem Ipsum comes\\r\\nfrom sections 1.10.32 and 1.10.33 of \\\"de Finibus Bonorum et Malorum\\\" (The Extremes of Good\\r\\nand Evil) by Cicero, written in 45 BC. This book is a treatise on the theory of ethics, very popular\\r\\nduring the Renaissance. The first line of Lorem Ipsum, \\\"Lorem ipsum dolor sit amet..\\\", comes\\r\\nfrom a line in section 1.10.32.\\r\\n\\r\\nThe standard chunk of Lorem Ipsum used since the 1500s is reproduced below for those\\r\\ninterested. Sections 1.10.32 and 1.10.33 from \\\"de Finibus Bonorum et Malorum\\\" by Cicero are\\r\\nalso reproduced in their exact original form, accompanied by English versions from the 1914\\r\\ntranslation by H. Rackham.\\r\\n\\r\\n\\r\\n\\r\\nIt is a long established fact that a reader will be distracted by the readable content of a page\\r\\nwhen looking at its layout. The point of using Lorem Ipsum is that it has a more-or-less normal\\r\\ndistribution of letters, as opposed to using 'Content here, content here', making it look like\\r\\nreadable English. Many desktop publishing packages and web page editors now use Lorem\\r\\nIpsum as their default model text, and a search for 'lorem ipsum' will uncover many web sites\\r\\nstill in their infancy. Various versions have evolved over the years, sometimes by accident,\\r\\nsometimes on purpose (injected humour and the like).\\r\\n\\r\\n\\r\\n\\r\\nThere are many variations of passages of Lorem Ipsum available, but the majority have suffered\\r\\nalteration in some form, by injected humour, or randomised words which don't look even\\r\\nslightly believable. If you are going to use a passage of Lorem Ipsum, you need to be sure there\\r\\nisn't anything embarrassing hidden in the middle of text. All the Lorem Ipsum generators on the\\r\\nInternet tend to repeat predefined chunks as necessary, making this the first true generator on\\r\\nthe Internet. It uses a dictionary of over 200 Latin words, combined with a handful of model\\r\\nsentence structures, to generate Lorem Ipsum which looks reasonable. The generated Lorem\\r\\nIpsum is therefore always free from repetition, injected humour, or non-characteristic words\\r\\netc.\\r\\n\\x0c\"\n",
    "question = \"What is Lorem Ipsum ?\"\n",
    "ans_file = \"QAS_ans.txt\"\n"
   ]
  },
  {
   "cell_type": "code",
   "execution_count": 3,
   "id": "57103516",
   "metadata": {
    "execution": {
     "iopub.execute_input": "2023-04-21T11:22:20.473504Z",
     "iopub.status.busy": "2023-04-21T11:22:20.472502Z",
     "iopub.status.idle": "2023-04-21T11:22:24.886099Z",
     "shell.execute_reply": "2023-04-21T11:22:24.886099Z"
    },
    "papermill": {
     "duration": 4.4166,
     "end_time": "2023-04-21T11:22:24.887101",
     "exception": false,
     "start_time": "2023-04-21T11:22:20.470501",
     "status": "completed"
    },
    "tags": []
   },
   "outputs": [],
   "source": [
    "#Importing Libraries\n",
    "import pandas as pd\n",
    "import numpy as np\n",
    "import matplotlib.pyplot as plt\n",
    "import seaborn as sns\n",
    "import torch\n",
    "import re\n",
    "import time\n",
    "import papermill as pm\n",
    "import warnings\n",
    "warnings.filterwarnings(\"ignore\")"
   ]
  },
  {
   "cell_type": "code",
   "execution_count": 4,
   "id": "33d3d4be",
   "metadata": {
    "execution": {
     "iopub.execute_input": "2023-04-21T11:22:24.895109Z",
     "iopub.status.busy": "2023-04-21T11:22:24.894109Z",
     "iopub.status.idle": "2023-04-21T11:22:28.948409Z",
     "shell.execute_reply": "2023-04-21T11:22:28.948409Z"
    },
    "papermill": {
     "duration": 4.059307,
     "end_time": "2023-04-21T11:22:28.949411",
     "exception": false,
     "start_time": "2023-04-21T11:22:24.890104",
     "status": "completed"
    },
    "tags": []
   },
   "outputs": [],
   "source": [
    "#Loading Model and Encoder\n",
    "model=torch.load(\"MODEL_APR_23\")\n",
    "model.eval()\n",
    "tokenizer = torch.load(\"tokenizer_encoder.unknown\")"
   ]
  },
  {
   "cell_type": "code",
   "execution_count": 5,
   "id": "a4c02754",
   "metadata": {
    "execution": {
     "iopub.execute_input": "2023-04-21T11:22:28.956417Z",
     "iopub.status.busy": "2023-04-21T11:22:28.956417Z",
     "iopub.status.idle": "2023-04-21T11:22:28.962324Z",
     "shell.execute_reply": "2023-04-21T11:22:28.962324Z"
    },
    "papermill": {
     "duration": 0.011913,
     "end_time": "2023-04-21T11:22:28.964327",
     "exception": false,
     "start_time": "2023-04-21T11:22:28.952414",
     "status": "completed"
    },
    "tags": []
   },
   "outputs": [],
   "source": [
    "def question_answer_A(question, text):\n",
    "    \n",
    "    #tokenize question and text in ids as a pair\n",
    "    input_ids = tokenizer.encode(question, text)\n",
    "    \n",
    "    #string version of tokenized ids\n",
    "    tokens = tokenizer.convert_ids_to_tokens(input_ids)\n",
    "    \n",
    "    #segment IDs\n",
    "    #first occurence of [SEP] token\n",
    "    sep_idx = input_ids.index(tokenizer.sep_token_id)\n",
    "\n",
    "    #number of tokens in segment A - question\n",
    "    num_seg_a = sep_idx+1\n",
    "\n",
    "    #number of tokens in segment B - text\n",
    "    num_seg_b = len(input_ids) - num_seg_a\n",
    "    \n",
    "    #list of 0s and 1s\n",
    "    segment_ids = [0]*num_seg_a + [1]*num_seg_b\n",
    "    \n",
    "    assert len(segment_ids) == len(input_ids)\n",
    "    \n",
    "    #model output using input_ids and segment_ids\n",
    "    output = model(torch.tensor([input_ids]), token_type_ids=torch.tensor([segment_ids]))\n",
    "    #reconstructing the answer\n",
    "    answer_start = torch.argmax(output.start_logits)\n",
    "    answer_end = torch.argmax(output.end_logits)\n",
    "    answer = 'unable to find answer'\n",
    "    if answer_end >= answer_start:\n",
    "        answer = tokens[answer_start]\n",
    "        for i in range(answer_start+1, answer_end+1):\n",
    "            if tokens[i][0:2] == \"##\":\n",
    "                answer += tokens[i][2:]\n",
    "            else:\n",
    "                answer += \" \" + tokens[i]\n",
    "                \n",
    "    if answer.startswith(\"[CLS]\"):\n",
    "        answer = \"Unable to find the answer to your question.\"\n",
    "    \n",
    "    return torch.max(output.start_logits), answer.capitalize() #score ans"
   ]
  },
  {
   "cell_type": "code",
   "execution_count": 6,
   "id": "6b2af179",
   "metadata": {
    "execution": {
     "iopub.execute_input": "2023-04-21T11:22:28.970333Z",
     "iopub.status.busy": "2023-04-21T11:22:28.970333Z",
     "iopub.status.idle": "2023-04-21T11:22:28.974853Z",
     "shell.execute_reply": "2023-04-21T11:22:28.974853Z"
    },
    "papermill": {
     "duration": 0.009528,
     "end_time": "2023-04-21T11:22:28.975857",
     "exception": false,
     "start_time": "2023-04-21T11:22:28.966329",
     "status": "completed"
    },
    "tags": []
   },
   "outputs": [],
   "source": [
    "def chunk_text(text, max_len):\n",
    "    # split the text into sentences\n",
    "    sentences = re.findall('[^.!?]+[.!?]', text)\n",
    "    \n",
    "    # initialize variables\n",
    "    current_len = 0\n",
    "    current_chunk = []\n",
    "    chunks = []\n",
    "    \n",
    "    # iterate over each sentence\n",
    "    for sentence in sentences:\n",
    "        # add the sentence to the current chunk\n",
    "        current_chunk.append(sentence)\n",
    "        \n",
    "        # update the length of the current chunk\n",
    "        current_len += len(sentence)\n",
    "        \n",
    "        # if the length of the current chunk is greater than or equal to the max length\n",
    "        if current_len >= max_len:\n",
    "            # add the current chunk to the list of chunks\n",
    "            chunks.append(' '.join(current_chunk))\n",
    "            \n",
    "            # reset the current chunk and length\n",
    "            current_chunk = []\n",
    "            current_len = 0\n",
    "    \n",
    "    # add any remaining sentences as a final chunk\n",
    "    if current_chunk:\n",
    "        chunks.append(' '.join(current_chunk))\n",
    "    \n",
    "    return chunks"
   ]
  },
  {
   "cell_type": "code",
   "execution_count": 7,
   "id": "ff2cbd67",
   "metadata": {
    "execution": {
     "iopub.execute_input": "2023-04-21T11:22:28.984864Z",
     "iopub.status.busy": "2023-04-21T11:22:28.983864Z",
     "iopub.status.idle": "2023-04-21T11:22:28.988174Z",
     "shell.execute_reply": "2023-04-21T11:22:28.988174Z"
    },
    "papermill": {
     "duration": 0.009315,
     "end_time": "2023-04-21T11:22:28.989176",
     "exception": false,
     "start_time": "2023-04-21T11:22:28.979861",
     "status": "completed"
    },
    "tags": []
   },
   "outputs": [],
   "source": [
    "def get_better_ans(question, text):\n",
    "  chunk_of_text=chunk_text(text,450)\n",
    "  scores = {}\n",
    "  for i in chunk_of_text:\n",
    "    scores.update({question_answer_A(question, i)[0] : question_answer_A(question, i)[1] })\n",
    "  v = list(scores.values())\n",
    "  k = list(scores.keys())\n",
    "  return (v[k.index(max(k))])"
   ]
  },
  {
   "cell_type": "code",
   "execution_count": 8,
   "id": "e5836bdf",
   "metadata": {
    "execution": {
     "iopub.execute_input": "2023-04-21T11:22:28.996182Z",
     "iopub.status.busy": "2023-04-21T11:22:28.996182Z",
     "iopub.status.idle": "2023-04-21T11:22:47.589492Z",
     "shell.execute_reply": "2023-04-21T11:22:47.587489Z"
    },
    "papermill": {
     "duration": 18.599316,
     "end_time": "2023-04-21T11:22:47.591494",
     "exception": false,
     "start_time": "2023-04-21T11:22:28.992178",
     "status": "completed"
    },
    "tags": []
   },
   "outputs": [
    {
     "name": "stdout",
     "output_type": "stream",
     "text": [
      "Lorem Ipsum is simply dummy text of the printing and typesetting industry. Lorem Ipsum has\r\n",
      "been the industry's standard dummy text ever since the 1500s, when an unknown printer took\r\n",
      "a galley of type and scrambled it to make a type specimen book. It has survived not only five\r\n",
      "centuries, but also the leap into electronic typesetting, remaining essentially unchanged. It was\r\n",
      "popularised in the 1960s with the release of Letraset sheets containing Lorem Ipsum passages,\r\n",
      "and more recently with desktop publishing software like Aldus PageMaker including versions of\r\n",
      "Lorem Ipsum. Contrary to popular belief, Lorem Ipsum is not simply random text. It has roots in\r\n",
      "a piece of classical Latin literature from 45 BC, making it over 2000 years old. Richard\r\n",
      "McClintock, a Latin professor at Hampden-Sydney College in Virginia, looked up one of the\r\n",
      "more obscure Latin words, consectetur, from a Lorem Ipsum passage, and going through the\r\n",
      "cites of the word in classical literature, discovered the undoubtable source. Lorem Ipsum comes\r\n",
      "from sections 1.10.32 and 1.10.33 of \"de Finibus Bonorum et Malorum\" (The Extremes of Good\r\n",
      "and Evil) by Cicero, written in 45 BC. This book is a treatise on the theory of ethics, very popular\r\n",
      "during the Renaissance. The first line of Lorem Ipsum, \"Lorem ipsum dolor sit amet..\", comes\r\n",
      "from a line in section 1.10.32.\r\n",
      "\r\n",
      "The standard chunk of Lorem Ipsum used since the 1500s is reproduced below for those\r\n",
      "interested. Sections 1.10.32 and 1.10.33 from \"de Finibus Bonorum et Malorum\" by Cicero are\r\n",
      "also reproduced in their exact original form, accompanied by English versions from the 1914\r\n",
      "translation by H. Rackham.\r\n",
      "\r\n",
      "\r\n",
      "\r\n",
      "It is a long established fact that a reader will be distracted by the readable content of a page\r\n",
      "when looking at its layout. The point of using Lorem Ipsum is that it has a more-or-less normal\r\n",
      "distribution of letters, as opposed to using 'Content here, content here', making it look like\r\n",
      "readable English. Many desktop publishing packages and web page editors now use Lorem\r\n",
      "Ipsum as their default model text, and a search for 'lorem ipsum' will uncover many web sites\r\n",
      "still in their infancy. Various versions have evolved over the years, sometimes by accident,\r\n",
      "sometimes on purpose (injected humour and the like).\r\n",
      "\r\n",
      "\r\n",
      "\r\n",
      "There are many variations of passages of Lorem Ipsum available, but the majority have suffered\r\n",
      "alteration in some form, by injected humour, or randomised words which don't look even\r\n",
      "slightly believable. If you are going to use a passage of Lorem Ipsum, you need to be sure there\r\n",
      "isn't anything embarrassing hidden in the middle of text. All the Lorem Ipsum generators on the\r\n",
      "Internet tend to repeat predefined chunks as necessary, making this the first true generator on\r\n",
      "the Internet. It uses a dictionary of over 200 Latin words, combined with a handful of model\r\n",
      "sentence structures, to generate Lorem Ipsum which looks reasonable. The generated Lorem\r\n",
      "Ipsum is therefore always free from repetition, injected humour, or non-characteristic words\r\n",
      "etc.\r\n",
      "\f",
      "\n",
      "What is Lorem Ipsum ?\n"
     ]
    }
   ],
   "source": [
    "print(text)\n",
    "print(question)\n",
    "x = get_better_ans(question, text)\n"
   ]
  },
  {
   "cell_type": "code",
   "execution_count": 9,
   "id": "38069785",
   "metadata": {
    "execution": {
     "iopub.execute_input": "2023-04-21T11:22:47.602504Z",
     "iopub.status.busy": "2023-04-21T11:22:47.601504Z",
     "iopub.status.idle": "2023-04-21T11:22:47.611325Z",
     "shell.execute_reply": "2023-04-21T11:22:47.610322Z"
    },
    "papermill": {
     "duration": 0.017828,
     "end_time": "2023-04-21T11:22:47.614327",
     "exception": false,
     "start_time": "2023-04-21T11:22:47.596499",
     "status": "completed"
    },
    "tags": []
   },
   "outputs": [
    {
     "name": "stdout",
     "output_type": "stream",
     "text": [
      "Dummy text of the printing and typesetting industry\n"
     ]
    }
   ],
   "source": [
    "print(x)\n",
    "f = open(ans_file, \"w\")\n",
    "f.write(x)\n",
    "f.close()"
   ]
  },
  {
   "cell_type": "code",
   "execution_count": null,
   "id": "795da226",
   "metadata": {
    "papermill": {
     "duration": 0.003002,
     "end_time": "2023-04-21T11:22:47.621333",
     "exception": false,
     "start_time": "2023-04-21T11:22:47.618331",
     "status": "completed"
    },
    "tags": []
   },
   "outputs": [],
   "source": []
  }
 ],
 "metadata": {
  "celltoolbar": "Tags",
  "kernelspec": {
   "display_name": "Python 3 (ipykernel)",
   "language": "python",
   "name": "python3"
  },
  "language_info": {
   "codemirror_mode": {
    "name": "ipython",
    "version": 3
   },
   "file_extension": ".py",
   "mimetype": "text/x-python",
   "name": "python",
   "nbconvert_exporter": "python",
   "pygments_lexer": "ipython3",
   "version": "3.11.0"
  },
  "papermill": {
   "default_parameters": {},
   "duration": 30.084993,
   "end_time": "2023-04-21T11:22:48.715323",
   "environment_variables": {},
   "exception": null,
   "input_path": "QAS.ipynb",
   "output_path": "QAS_output.ipynb",
   "parameters": {
    "ans_file": "QAS_ans.txt",
    "question": "What is Lorem Ipsum ?",
    "text": "Lorem Ipsum is simply dummy text of the printing and typesetting industry. Lorem Ipsum has\r\nbeen the industry's standard dummy text ever since the 1500s, when an unknown printer took\r\na galley of type and scrambled it to make a type specimen book. It has survived not only five\r\ncenturies, but also the leap into electronic typesetting, remaining essentially unchanged. It was\r\npopularised in the 1960s with the release of Letraset sheets containing Lorem Ipsum passages,\r\nand more recently with desktop publishing software like Aldus PageMaker including versions of\r\nLorem Ipsum. Contrary to popular belief, Lorem Ipsum is not simply random text. It has roots in\r\na piece of classical Latin literature from 45 BC, making it over 2000 years old. Richard\r\nMcClintock, a Latin professor at Hampden-Sydney College in Virginia, looked up one of the\r\nmore obscure Latin words, consectetur, from a Lorem Ipsum passage, and going through the\r\ncites of the word in classical literature, discovered the undoubtable source. Lorem Ipsum comes\r\nfrom sections 1.10.32 and 1.10.33 of \"de Finibus Bonorum et Malorum\" (The Extremes of Good\r\nand Evil) by Cicero, written in 45 BC. This book is a treatise on the theory of ethics, very popular\r\nduring the Renaissance. The first line of Lorem Ipsum, \"Lorem ipsum dolor sit amet..\", comes\r\nfrom a line in section 1.10.32.\r\n\r\nThe standard chunk of Lorem Ipsum used since the 1500s is reproduced below for those\r\ninterested. Sections 1.10.32 and 1.10.33 from \"de Finibus Bonorum et Malorum\" by Cicero are\r\nalso reproduced in their exact original form, accompanied by English versions from the 1914\r\ntranslation by H. Rackham.\r\n\r\n\r\n\r\nIt is a long established fact that a reader will be distracted by the readable content of a page\r\nwhen looking at its layout. The point of using Lorem Ipsum is that it has a more-or-less normal\r\ndistribution of letters, as opposed to using 'Content here, content here', making it look like\r\nreadable English. Many desktop publishing packages and web page editors now use Lorem\r\nIpsum as their default model text, and a search for 'lorem ipsum' will uncover many web sites\r\nstill in their infancy. Various versions have evolved over the years, sometimes by accident,\r\nsometimes on purpose (injected humour and the like).\r\n\r\n\r\n\r\nThere are many variations of passages of Lorem Ipsum available, but the majority have suffered\r\nalteration in some form, by injected humour, or randomised words which don't look even\r\nslightly believable. If you are going to use a passage of Lorem Ipsum, you need to be sure there\r\nisn't anything embarrassing hidden in the middle of text. All the Lorem Ipsum generators on the\r\nInternet tend to repeat predefined chunks as necessary, making this the first true generator on\r\nthe Internet. It uses a dictionary of over 200 Latin words, combined with a handful of model\r\nsentence structures, to generate Lorem Ipsum which looks reasonable. The generated Lorem\r\nIpsum is therefore always free from repetition, injected humour, or non-characteristic words\r\netc.\r\n\f"
   },
   "start_time": "2023-04-21T11:22:18.630330",
   "version": "2.4.0"
  }
 },
 "nbformat": 4,
 "nbformat_minor": 5
}